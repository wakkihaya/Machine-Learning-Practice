{
 "cells": [
  {
   "cell_type": "code",
   "execution_count": 14,
   "outputs": [],
   "source": [
    "import pandas as pd\n",
    "from IPython.display import HTML\n",
    "import numpy as np\n",
    "import bs4\n",
    "import urllib.request, urllib.error\n"
   ],
   "metadata": {
    "collapsed": false,
    "pycharm": {
     "name": "#%%\n",
     "is_executing": false
    }
   }
  },
  {
   "cell_type": "code",
   "execution_count": 8,
   "outputs": [
    {
     "data": {
      "text/plain": "   user_id  age sex  occupation zip_code\n0        1   24   M  technician    85711\n1        2   53   F       other    94043\n2        3   23   M      writer    32067\n3        4   24   M  technician    43537\n4        5   33   F       other    15213",
      "text/html": "<div>\n<style scoped>\n    .dataframe tbody tr th:only-of-type {\n        vertical-align: middle;\n    }\n\n    .dataframe tbody tr th {\n        vertical-align: top;\n    }\n\n    .dataframe thead th {\n        text-align: right;\n    }\n</style>\n<table border=\"1\" class=\"dataframe\">\n  <thead>\n    <tr style=\"text-align: right;\">\n      <th></th>\n      <th>user_id</th>\n      <th>age</th>\n      <th>sex</th>\n      <th>occupation</th>\n      <th>zip_code</th>\n    </tr>\n  </thead>\n  <tbody>\n    <tr>\n      <th>0</th>\n      <td>1</td>\n      <td>24</td>\n      <td>M</td>\n      <td>technician</td>\n      <td>85711</td>\n    </tr>\n    <tr>\n      <th>1</th>\n      <td>2</td>\n      <td>53</td>\n      <td>F</td>\n      <td>other</td>\n      <td>94043</td>\n    </tr>\n    <tr>\n      <th>2</th>\n      <td>3</td>\n      <td>23</td>\n      <td>M</td>\n      <td>writer</td>\n      <td>32067</td>\n    </tr>\n    <tr>\n      <th>3</th>\n      <td>4</td>\n      <td>24</td>\n      <td>M</td>\n      <td>technician</td>\n      <td>43537</td>\n    </tr>\n    <tr>\n      <th>4</th>\n      <td>5</td>\n      <td>33</td>\n      <td>F</td>\n      <td>other</td>\n      <td>15213</td>\n    </tr>\n  </tbody>\n</table>\n</div>"
     },
     "metadata": {},
     "output_type": "execute_result",
     "execution_count": 8
    }
   ],
   "source": [
    "u_cols = ['user_id', 'age', 'sex', 'occupation', 'zip_code']\n",
    "\n",
    "users = pd.read_csv(\n",
    "    'http://files.grouplens.org/datasets/movielens/ml-100k/u.user', \n",
    "    sep='|', names=u_cols)\n",
    "\n",
    "users.head()\n"
   ],
   "metadata": {
    "collapsed": false,
    "pycharm": {
     "name": "#%%\n",
     "is_executing": false
    }
   }
  },
  {
   "cell_type": "code",
   "execution_count": 6,
   "outputs": [
    {
     "data": {
      "text/plain": "     user_id  age sex  occupation zip_code\n18        19   40   M   librarian    02138\n82        83   40   M       other    44133\n115      116   40   M  healthcare    97232",
      "text/html": "<div>\n<style scoped>\n    .dataframe tbody tr th:only-of-type {\n        vertical-align: middle;\n    }\n\n    .dataframe tbody tr th {\n        vertical-align: top;\n    }\n\n    .dataframe thead th {\n        text-align: right;\n    }\n</style>\n<table border=\"1\" class=\"dataframe\">\n  <thead>\n    <tr style=\"text-align: right;\">\n      <th></th>\n      <th>user_id</th>\n      <th>age</th>\n      <th>sex</th>\n      <th>occupation</th>\n      <th>zip_code</th>\n    </tr>\n  </thead>\n  <tbody>\n    <tr>\n      <th>18</th>\n      <td>19</td>\n      <td>40</td>\n      <td>M</td>\n      <td>librarian</td>\n      <td>02138</td>\n    </tr>\n    <tr>\n      <th>82</th>\n      <td>83</td>\n      <td>40</td>\n      <td>M</td>\n      <td>other</td>\n      <td>44133</td>\n    </tr>\n    <tr>\n      <th>115</th>\n      <td>116</td>\n      <td>40</td>\n      <td>M</td>\n      <td>healthcare</td>\n      <td>97232</td>\n    </tr>\n  </tbody>\n</table>\n</div>"
     },
     "metadata": {},
     "output_type": "execute_result",
     "execution_count": 6
    }
   ],
   "source": [
    "users['occupation'].head()\n",
    "## *** Where did the nice design go? ***\n",
    "columns_you_want = ['occupation', 'sex'] \n",
    "users[columns_you_want].head()\n",
    "users[(users.age == 40) & (users.sex == 'M')].head(3)\n",
    "\n",
    "#print users.head()\n",
    "\n",
    "#print users.iloc[3]"
   ],
   "metadata": {
    "collapsed": false,
    "pycharm": {
     "name": "#%%\n",
     "is_executing": false
    }
   }
  },
  {
   "cell_type": "code",
   "execution_count": 9,
   "outputs": [
    {
     "data": {
      "text/plain": "<IPython.core.display.HTML object>",
      "text/html": "<!DOCTYPE html>\n<html>\n  <head>\n    <title>This is a title</title>\n  </head>\n  <body>\n    <h2> Test </h2>\n    <p>Hello world!</p>\n  </body>\n</html>"
     },
     "metadata": {},
     "output_type": "execute_result",
     "execution_count": 9
    }
   ],
   "source": [
    "htmlString = \"\"\"<!DOCTYPE html>\n",
    "<html>\n",
    "  <head>\n",
    "    <title>This is a title</title>\n",
    "  </head>\n",
    "  <body>\n",
    "    <h2> Test </h2>\n",
    "    <p>Hello world!</p>\n",
    "  </body>\n",
    "</html>\"\"\"\n",
    "\n",
    "htmlOutput = HTML(htmlString)\n",
    "htmlOutput\n"
   ],
   "metadata": {
    "collapsed": false,
    "pycharm": {
     "name": "#%%\n",
     "is_executing": false
    }
   }
  },
  {
   "cell_type": "code",
   "execution_count": 17,
   "outputs": [
    {
     "name": "stdout",
     "text": [
      "b'<!DOCTYPE HTML PUBLIC \"-//W3C//DTD HTML 4.0 Transitional//EN\"\\n\"http://www.w3.org/TR/REC-html40/transitional.dtd\">\\n<html>\\n<head>\\n<meta http-equiv=\"Content-Type\" content=\"text/html; charset=utf-8\">\\n<title>Beautiful Soup: We called him Tortoise because he taught us.</title>\\n<link rev=\"made\" href=\"mailto:leonardr@segfault.org\">\\n<link rel=\"stylesheet\" type=\"text/css\" href=\"/nb/themes/Default/nb.css\">\\n<meta name=\"Description\" content=\"Beautiful Soup: a library designed for screen-scraping HTML and XML.\">\\n<meta name=\"generator\" content=\"Markov Approximation 1.4 (module: leonardr)\">\\n<meta name=\"author\" content=\"Leonard Richardson\">\\n</head>\\n<body bgcolor=\"white\" text=\"black\" link=\"blue\" vlink=\"660066\" alink=\"red\">\\n<img align=\"right\" src=\"10.1.jpg\" width=\"250\"><br />\\n\\n<p>You didn\\'t write that awful page. You\\'re just trying to get some\\ndata out of it. Beautiful Soup is here to help. Since 2004, it\\'s been\\nsaving programmers hours or days of work on quick-turnaround\\nscreen scraping projects.</p>\\n\\n<div align=\"center\">\\n\\n<a href=\"bs4/download/\"><h1>Beautiful Soup</h1></a>\\n\\n<p>\"A tremendous boon.\" -- Python411 Podcast</p>\\n\\n<p>[ <a href=\"#Download\">Download</a> | <a\\nhref=\"bs4/doc/\">Documentation</a> | <a href=\"#HallOfFame\">Hall of Fame</a> | <a href=\"https://code.launchpad.net/beautifulsoup\">Source</a> | <a href=\"https://bazaar.launchpad.net/%7Eleonardr/beautifulsoup/bs4/view/head:/CHANGELOG\">Changelog</a> | <a href=\"https://groups.google.com/forum/?fromgroups#!forum/beautifulsoup\">Discussion group</a>  | <a href=\"zine/\">Zine</a> ]</p>\\n\\n<p><small>If you use Beautiful Soup as part of your work, please consider a <a href=\"https://tidelift.com/subscription/pkg/pypi-beautifulsoup4?utm_source=pypi-beautifulsoup4&utm_medium=referral&utm_campaign=website\">Tidelift subscription</a>. This will support many of the free software projects your organization depends on, not just Beautiful Soup.\\n<p>If Beautiful Soup is useful to you on a personal level, you might like to read <a href=\"zine/\"><i>Tool Safety</i></a>, a short zine I wrote about what I learned about software development from working on Beautiful Soup. Thanks!</small></p>\\n\\n\\n\\n</div>\\n\\n<p><i>If you have questions, send them to <a\\nhref=\"https://groups.google.com/forum/?fromgroups#!forum/beautifulsoup\">the discussion\\ngroup</a>. If you find a bug, <a href=\"https://bugs.launchpad.net/beautifulsoup/\">file it on Launchpad</a>.</i></p> If it\\'s a security vulnerability, report it confidentially through <a href=\"https://tidelift.com/security\">Tidelift</a>.\\n\\n<p>Beautiful Soup is a Python library designed for quick turnaround\\nprojects like screen-scraping. Three features make it powerful:\\n\\n<ol>\\n\\n<li>Beautiful Soup provides a few simple methods and Pythonic idioms\\nfor navigating, searching, and modifying a parse tree: a toolkit for\\ndissecting a document and extracting what you need. It doesn\\'t take\\nmuch code to write an application\\n\\n<li>Beautiful Soup automatically converts incoming documents to\\nUnicode and outgoing documents to UTF-8. You don\\'t have to think\\nabout encodings, unless the document doesn\\'t specify an encoding and\\nBeautiful Soup can\\'t detect one. Then you just have to specify the\\noriginal encoding.\\n\\n<li>Beautiful Soup sits on top of popular Python parsers like <a\\nhref=\"http://lxml.de/\">lxml</a> and <a\\nhref=\"http://code.google.com/p/html5lib/\">html5lib</a>, allowing you\\nto try out different parsing strategies or trade speed for\\nflexibility.\\n\\n</ol>\\n\\n<p>Beautiful Soup parses anything you give it, and does the tree\\ntraversal stuff for you. You can tell it \"Find all the links\", or\\n\"Find all the links of class <tt>externalLink</tt>\", or \"Find all the\\nlinks whose urls match \"foo.com\", or \"Find the table heading that\\'s\\ngot bold text, then give me that text.\"\\n\\n<p>Valuable data that was once locked up in poorly-designed websites\\nis now within your reach. Projects that would have taken hours take\\nonly minutes with Beautiful Soup.\\n\\n<p>Interested? <a href=\"bs4/doc/\">Read more.</a>\\n\\n<a name=\"Download\"><h2>Download Beautiful Soup</h2></a>\\n\\n<p>The current release is <a href=\"bs4/download/\">Beautiful Soup\\n4.8.2</a> (December 24, 2019). You can install Beautiful Soup 4 with\\n<code>pip install beautifulsoup4</code>.\\n\\n<p>In Debian and Ubuntu, Beautiful Soup is available as the\\n<code>python-bs4</code> package (for Python 2) or the\\n<code>python3-bs4</code> package (for Python 3). In Fedora it\\'s\\navailable as the <code>python-beautifulsoup4</code> package.\\n\\n<p>Beautiful Soup is licensed under the MIT license, so you can also\\ndownload the tarball, drop the <code>bs4/</code> directory into almost\\nany Python application (or into your library path) and start using it\\nimmediately. (If you want to do this under Python 3, you will need to\\nmanually convert the code using <code>2to3</code>.)\\n\\n<p>Beautiful Soup 4 works on both Python 2 (2.7+) and Python\\n3. Support for Python 2 will be discontinued on or after December 31,\\n2020&mdash;one year after the Python 2 sunsetting date.\\n\\n<h3>Beautiful Soup 3</h3>\\n\\n<p>Beautiful Soup 3 was the official release line of Beautiful Soup\\nfrom May 2006 to March 2012. It does not support Python 3 and it will\\nbe discontinued on or after December 31, 2020&mdash;one year after the\\nPython 2 sunsetting date. If you have any active projects using\\nBeautiful Soup 3, you should migrate to Beautiful Soup 4 as part of\\nyour Python 3 conversion.\\n\\n<p><a\\nhref=\"http://www.crummy.com/software/BeautifulSoup/bs3/documentation.html\">Here\\'s\\nthe Beautiful Soup 3 documentation.</a>\\n\\n<p>The current and hopefully final release of Beautiful Soup 3 is <a\\nhref=\"download/3.x/BeautifulSoup-3.2.2.tar.gz\">3.2.2</a> (October 5,\\n2019). It\\'s the <code>BeautifulSoup</code> package on pip. It\\'s also\\navailable as <code>python-beautifulsoup</code> in Debian and Ubuntu,\\nand as <code>python-BeautifulSoup</code> in Fedora.\\n\\n<p>Once Beautiful Soup 3 is discontinued, these package names will be available for use by a more recent version of Beautiful Soup.\\n\\n<p>Beautiful Soup 3, like Beautiful Soup 4, is <a href=\"https://tidelift.com/subscription/pkg/pypi-beautifulsoup?utm_source=pypi-beautifulsoup&utm_medium=referral&utm_campaign=website\">supported through Tidelift</a>.</p>\\n\\n<a name=\"HallOfFame\"><h2>Hall of Fame</h2></a>\\n\\n<p>Over the years, Beautiful Soup has been used in hundreds of\\ndifferent projects. There\\'s no way I can list them all, but I want to\\nhighlight a few high-profile projects. Beautiful Soup isn\\'t what makes\\nthese projects interesting, but it did make their completion easier:\\n\\n<ul>\\n\\n<li><a\\n href=\"http://www.nytimes.com/2007/10/25/arts/design/25vide.html\">\"Movable\\n Type\"</a>, a work of digital art on display in the lobby of the New\\n York Times building, uses Beautiful Soup to scrape news feeds.\\n\\n<li>Reddit uses Beautiful Soup to <a\\nhref=\"https://github.com/reddit/reddit/blob/85f9cff3e2ab9bb8f19b96acd8da4ebacc079f04/r2/r2/lib/media.py\">parse\\na page that\\'s been linked to and find a representative image</a>.\\n\\n<li>Alexander Harrowell uses Beautiful Soup to <a\\n href=\"http://www.harrowell.org.uk/viktormap.html\">track the business\\n activities</a> of an arms merchant.\\n\\n<li>The developers of Python itself used Beautiful Soup to <a\\nhref=\"http://svn.python.org/view/tracker/importer/\">migrate the Python\\nbug tracker from Sourceforge to Roundup</a>.\\n\\n<li>The <a href=\"http://www2.ljworld.com/\">Lawrence Journal-World</a>\\nuses Beautiful Soup to <A\\nhref=\"http://www.b-list.org/weblog/2010/nov/02/news-done-broke/\">gather\\nstatewide election results</a>.\\n\\n<li>The <a href=\"http://esrl.noaa.gov/gsd/fab/\">NOAA\\'s Forecast\\nApplications Branch</a> uses Beautiful Soup in <a\\nhref=\"http://laps.noaa.gov/topograbber/\">TopoGrabber</a>, a script for\\ndownloading \"high resolution USGS datasets.\"\\n\\n</ul>\\n\\n<p>If you\\'ve used Beautiful Soup in a project you\\'d like me to know\\nabout, please do send email to me or <a\\nhref=\"http://groups.google.com/group/beautifulsoup/\">the discussion\\ngroup</a>.\\n\\n<h2>Development</h2>\\n\\n<p>Development happens at <a\\nhref=\"https://launchpad.net/beautifulsoup\">Launchpad</a>. You can <a\\nhref=\"https://code.launchpad.net/beautifulsoup/\">get the source\\ncode</a> or <a href=\"https://bugs.launchpad.net/beautifulsoup/\">file\\nbugs</a>.<hr><table><tr><td valign=\"top\">\\n<p>This document (<a href=\"/source/software/BeautifulSoup/index.bhtml\">source</a>) is part of Crummy, the webspace of <a href=\"/self/\">Leonard Richardson</a> (<a href=\"/self/contact.html\">contact information</a>). It was last modified on Tuesday, December 24 2019, 22:28:48 Nowhere Standard Time and last built on Friday, December 27 2019, 23:00:01 Nowhere Standard Time.</p><p><table class=\"licenseText\"><tr><td><a href=\"http://creativecommons.org/licenses/by-sa/2.0/\"><img border=\"0\" src=\"/nb//resources/img/somerights20.jpg\"></a></td><td valign=\"top\">Crummy is &copy; 1996-2019 Leonard Richardson. Unless otherwise noted, all text licensed under a <a href=\"http://creativecommons.org/licenses/by-sa/2.0/\">Creative Commons License</a>.</td></tr></table></span><!--<rdf:RDF xmlns=\"http://web.resource.org/cc/\" xmlns:dc=\"http://purl.org/dc/elements/1.1/\" xmlns:rdf=\"http://www.w3.org/1999/02/22-rdf-syntax-ns#\"><Work rdf:about=\"http://www.crummy.com/\"><dc:title>Crummy: The Site</dc:title><dc:rights><Agent><dc:title>Crummy: the Site</dc:title></Agent></dc:rights><dc:format>text/html</dc:format><license rdf:resource=http://creativecommons.org/licenses/by-sa/2.0//></Work><License rdf:about=\"http://creativecommons.org/licenses/by-sa/2.0/\"></License></rdf:RDF>--></p></td><td valign=top><p><b>Document tree:</b>\\n<dl><dd><a href=\"http://www.crummy.com/\">http://www.crummy.com/</a><dl><dd><a href=\"http://www.crummy.com/software/\">software/</a><dl><dd><a href=\"http://www.crummy.com/software/BeautifulSoup/\">BeautifulSoup/</a></dl>\\n</dl>\\n</dl>\\n\\n\\nSite Search:\\n\\n<form method=\"get\" action=\"/search/\">\\n        <input type=\"text\" name=\"q\" maxlength=\"255\" value=\"\"></input>\\n        </form>\\n        </td>\\n\\n</tr>\\n\\n</table>\\n</body>\\n</html>\\n'\n"
     ],
     "output_type": "stream"
    }
   ],
   "source": [
    "url = 'http://www.crummy.com/software/BeautifulSoup'\n",
    "source = urllib.request.urlopen(url).read()\n",
    "print(source)\n",
    "\n",
    "\n"
   ],
   "metadata": {
    "collapsed": false,
    "pycharm": {
     "name": "#%%\n",
     "is_executing": false
    }
   }
  },
  {
   "cell_type": "code",
   "execution_count": 25,
   "outputs": [
    {
     "data": {
      "text/plain": "[<a href=\"bs4/download/\"><h1>Beautiful Soup</h1></a>,\n <a href=\"#Download\">Download</a>,\n <a href=\"bs4/doc/\">Documentation</a>,\n <a href=\"#HallOfFame\">Hall of Fame</a>,\n <a href=\"https://code.launchpad.net/beautifulsoup\">Source</a>,\n <a href=\"https://bazaar.launchpad.net/%7Eleonardr/beautifulsoup/bs4/view/head:/CHANGELOG\">Changelog</a>,\n <a href=\"https://groups.google.com/forum/?fromgroups#!forum/beautifulsoup\">Discussion group</a>,\n <a href=\"zine/\">Zine</a>,\n <a href=\"https://tidelift.com/subscription/pkg/pypi-beautifulsoup4?utm_source=pypi-beautifulsoup4&amp;utm_medium=referral&amp;utm_campaign=website\">Tidelift subscription</a>,\n <a href=\"zine/\"><i>Tool Safety</i></a>,\n <a href=\"https://groups.google.com/forum/?fromgroups#!forum/beautifulsoup\">the discussion\n group</a>,\n <a href=\"https://bugs.launchpad.net/beautifulsoup/\">file it on Launchpad</a>,\n <a href=\"https://tidelift.com/security\">Tidelift</a>,\n <a href=\"http://lxml.de/\">lxml</a>,\n <a href=\"http://code.google.com/p/html5lib/\">html5lib</a>,\n <a href=\"bs4/doc/\">Read more.</a>,\n <a name=\"Download\"><h2>Download Beautiful Soup</h2></a>,\n <a href=\"bs4/download/\">Beautiful Soup\n 4.8.2</a>,\n <a href=\"http://www.crummy.com/software/BeautifulSoup/bs3/documentation.html\">Here's\n the Beautiful Soup 3 documentation.</a>,\n <a href=\"download/3.x/BeautifulSoup-3.2.2.tar.gz\">3.2.2</a>,\n <a href=\"https://tidelift.com/subscription/pkg/pypi-beautifulsoup?utm_source=pypi-beautifulsoup&amp;utm_medium=referral&amp;utm_campaign=website\">supported through Tidelift</a>,\n <a name=\"HallOfFame\"><h2>Hall of Fame</h2></a>,\n <a href=\"http://www.nytimes.com/2007/10/25/arts/design/25vide.html\">\"Movable\n  Type\"</a>,\n <a href=\"https://github.com/reddit/reddit/blob/85f9cff3e2ab9bb8f19b96acd8da4ebacc079f04/r2/r2/lib/media.py\">parse\n a page that's been linked to and find a representative image</a>,\n <a href=\"http://www.harrowell.org.uk/viktormap.html\">track the business\n  activities</a>,\n <a href=\"http://svn.python.org/view/tracker/importer/\">migrate the Python\n bug tracker from Sourceforge to Roundup</a>,\n <a href=\"http://www2.ljworld.com/\">Lawrence Journal-World</a>,\n <a href=\"http://www.b-list.org/weblog/2010/nov/02/news-done-broke/\">gather\n statewide election results</a>,\n <a href=\"http://esrl.noaa.gov/gsd/fab/\">NOAA's Forecast\n Applications Branch</a>,\n <a href=\"http://laps.noaa.gov/topograbber/\">TopoGrabber</a>,\n <a href=\"http://groups.google.com/group/beautifulsoup/\">the discussion\n group</a>,\n <a href=\"https://launchpad.net/beautifulsoup\">Launchpad</a>,\n <a href=\"https://code.launchpad.net/beautifulsoup/\">get the source\n code</a>,\n <a href=\"https://bugs.launchpad.net/beautifulsoup/\">file\n bugs</a>,\n <a href=\"/source/software/BeautifulSoup/index.bhtml\">source</a>,\n <a href=\"/self/\">Leonard Richardson</a>,\n <a href=\"/self/contact.html\">contact information</a>,\n <a href=\"http://creativecommons.org/licenses/by-sa/2.0/\"><img border=\"0\" src=\"/nb//resources/img/somerights20.jpg\"/></a>,\n <a href=\"http://creativecommons.org/licenses/by-sa/2.0/\">Creative Commons License</a>,\n <a href=\"http://www.crummy.com/\">http://www.crummy.com/</a>,\n <a href=\"http://www.crummy.com/software/\">software/</a>,\n <a href=\"http://www.crummy.com/software/BeautifulSoup/\">BeautifulSoup/</a>]"
     },
     "metadata": {},
     "output_type": "execute_result",
     "execution_count": 25
    }
   ],
   "source": [
    "soup = bs4.BeautifulSoup(source)\n",
    " \n",
    "## compare the two print statements\n",
    "#print(soup)\n",
    "#print(soup.prettify())\n",
    "\n",
    "## show how to find all a tags\n",
    "soup.findAll('a')\n",
    "\n",
    "## ***Why does this not work? ***\n",
    "#soup.findAll('Soup')"
   ],
   "metadata": {
    "collapsed": false,
    "pycharm": {
     "name": "#%%\n",
     "is_executing": false
    }
   }
  },
  {
   "cell_type": "code",
   "execution_count": 32,
   "outputs": [
    {
     "data": {
      "text/plain": "['bs4/download/',\n '#Download',\n 'bs4/doc/',\n '#HallOfFame',\n 'https://code.launchpad.net/beautifulsoup',\n 'https://bazaar.launchpad.net/%7Eleonardr/beautifulsoup/bs4/view/head:/CHANGELOG',\n 'https://groups.google.com/forum/?fromgroups#!forum/beautifulsoup',\n 'zine/',\n 'https://tidelift.com/subscription/pkg/pypi-beautifulsoup4?utm_source=pypi-beautifulsoup4&utm_medium=referral&utm_campaign=website',\n 'zine/',\n 'https://groups.google.com/forum/?fromgroups#!forum/beautifulsoup',\n 'https://bugs.launchpad.net/beautifulsoup/',\n 'https://tidelift.com/security',\n 'http://lxml.de/',\n 'http://code.google.com/p/html5lib/',\n 'bs4/doc/',\n None,\n 'bs4/download/',\n 'http://www.crummy.com/software/BeautifulSoup/bs3/documentation.html',\n 'download/3.x/BeautifulSoup-3.2.2.tar.gz',\n 'https://tidelift.com/subscription/pkg/pypi-beautifulsoup?utm_source=pypi-beautifulsoup&utm_medium=referral&utm_campaign=website',\n None,\n 'http://www.nytimes.com/2007/10/25/arts/design/25vide.html',\n 'https://github.com/reddit/reddit/blob/85f9cff3e2ab9bb8f19b96acd8da4ebacc079f04/r2/r2/lib/media.py',\n 'http://www.harrowell.org.uk/viktormap.html',\n 'http://svn.python.org/view/tracker/importer/',\n 'http://www2.ljworld.com/',\n 'http://www.b-list.org/weblog/2010/nov/02/news-done-broke/',\n 'http://esrl.noaa.gov/gsd/fab/',\n 'http://laps.noaa.gov/topograbber/',\n 'http://groups.google.com/group/beautifulsoup/',\n 'https://launchpad.net/beautifulsoup',\n 'https://code.launchpad.net/beautifulsoup/',\n 'https://bugs.launchpad.net/beautifulsoup/',\n '/source/software/BeautifulSoup/index.bhtml',\n '/self/',\n '/self/contact.html',\n 'http://creativecommons.org/licenses/by-sa/2.0/',\n 'http://creativecommons.org/licenses/by-sa/2.0/',\n 'http://www.crummy.com/',\n 'http://www.crummy.com/software/',\n 'http://www.crummy.com/software/BeautifulSoup/']"
     },
     "metadata": {},
     "output_type": "execute_result",
     "execution_count": 32
    }
   ],
   "source": [
    "## find tag: this only returns the first occurrence, not all tags in the string\n",
    "first_tag = soup.find('a')\n",
    "#print(first_tag)\n",
    "## get attribute `href`\n",
    "#print(first_tag.get('href'))\n",
    "\n",
    "## get all links in the page\n",
    "link_list = [l.get('href') for l in soup.findAll('a')]\n",
    "link_list"
   ],
   "metadata": {
    "collapsed": false,
    "pycharm": {
     "name": "#%%\n",
     "is_executing": false
    }
   }
  },
  {
   "cell_type": "code",
   "execution_count": 33,
   "outputs": [
    {
     "name": "stdout",
     "text": [
      "b'{\"type\":\"NEWS\",\"type\":\"NEWS\",\"picked\":\"2019-12-19T09:27:32.000Z\",\"user\":2151,\"news\":4476286,\"feed\":527,\"userType\":\"FREE_SUPPLIER\",\"publisherId\":2151,\"publisherImage\":\"https://contents.newspicks.com/users/2151/cover?updatedAt=20171201160814\",\"publisher\":\"\\xe5\\x85\\xb1\\xe5\\x90\\x8c\\xe9\\x80\\x9a\\xe4\\xbf\\xa1\",\"published\":\"2019-12-19T09:27:32.000Z\",\"updated\":\"2019-12-19T22:21:34.800Z\",\"paid\":false,\"permitted\":true,\"forbiddenReason\":\"REGISTER\",\"title\":\"\\xe6\\xa5\\xbd\\xe5\\xa4\\xa9\\xe3\\x80\\x81\\xe9\\x80\\x81\\xe6\\x96\\x99\\xe3\\x82\\xbc\\xe3\\x83\\xad\\xe3\\x81\\xaf3\\xe6\\x9c\\x8818\\xe6\\x97\\xa5\\xe3\\x81\\x8b\\xe3\\x82\\x89\\xe3\\x80\\x80\\xe5\\x87\\xba\\xe5\\xba\\x97\\xe8\\x80\\x85\\xe5\\x8f\\x8d\\xe7\\x99\\xba\\xe3\\x81\\xa7\\xe3\\x82\\x82\\xe5\\xb0\\x8e\\xe5\\x85\\xa5\\xe9\\x80\\x9a\\xe7\\x9f\\xa5\",\"summary\":\"\\xe6\\xa5\\xbd\\xe5\\xa4\\xa9\\xe3\\x80\\x81\\xe9\\x80\\x81\\xe6\\x96\\x99\\xe3\\x82\\xbc\\xe3\\x83\\xad\\xe3\\x81\\xaf3\\xe6\\x9c\\x8818\\xe6\\x97\\xa5\\xe3\\x81\\x8b\\xe3\\x82\\x89 \\xe6\\xa5\\xbd\\xe5\\xa4\\xa9\\xe3\\x81\\x8c\\xe9\\x80\\x9a\\xe8\\xb2\\xa9\\xe3\\x82\\xb5\\xe3\\x82\\xa4\\xe3\\x83\\x88\\xe3\\x80\\x8c\\xe6\\xa5\\xbd\\xe5\\xa4\\xa9\\xe5\\xb8\\x82\\xe5\\xa0\\xb4\\xe3\\x80\\x8d\\xe3\\x81\\xa7\\xe3\\x80\\x81\\xe4\\xb8\\x80\\xe5\\xae\\x9a\\xe9\\xa1\\x8d\\xe4\\xbb\\xa5\\xe4\\xb8\\x8a\\xe3\\x82\\x92\\xe8\\xb3\\xbc\\xe5\\x85\\xa5\\xe3\\x81\\x97\\xe3\\x81\\x9f\\xe5\\x88\\xa9\\xe7\\x94\\xa8\\xe8\\x80\\x85\\xe3\\x82\\x92\\xe5\\xaf\\xbe\\xe8\\xb1\\xa1\\xe3\\x81\\xab\\xe3\\x80\\x81\\xe5\\x95\\x86\\xe5\\x93\\x81\\xe3\\x81\\xae\\xe9\\x80\\x81\\xe6\\x96\\x99\\xe3\\x82\\x92\\xe5\\x87\\xba\\xe5\\xba\\x97\\xe8\\x80\\x85\\xe8\\xb2\\xa0\\xe6\\x8b\\x85\\xe3\\x81\\xa7\\xe4\\xb8\\x80\\xe5\\xbe\\x8b\\xe7\\x84\\xa1\\xe6\\x96\\x99...\",\"image\":\"https://contents.newspicks.com/images/news/4476286?updatedAt=20191219222134\",\"cover\":false,\"link\":\"https://this.kiji.is/580325800162526305?c=113147194022725109\",\"comment\":{\"user\":315349,\"news\":4476286,\"picked\":\"2019-12-19T17:25:44.407Z\",\"comment\":\"\\xe3\\x82\\xa6\\xe3\\x83\\x81\\xe3\\x82\\x82\\xe3\\x81\\x84\\xe3\\x81\\xa1\\xe3\\x81\\x8a\\xe3\\x82\\xb7\\xe3\\x83\\xa7\\xe3\\x83\\x83\\xe3\\x83\\x97\\xe3\\x82\\xaa\\xe3\\x83\\x96\\xe3\\x82\\xb6\\xe3\\x82\\xa4\\xe3\\x83\\xa4\\xe3\\x83\\xbc\\xe5\\x8f\\x97\\xe8\\xb3\\x9e\\xe6\\xad\\xb4\\xe3\\x81\\xae\\xe5\\x87\\xba\\xe5\\xba\\x97\\xe8\\x80\\x85\\xe3\\x81\\xa7\\xe3\\x81\\x99\\xe3\\x81\\x8c\\xe3\\x80\\x81\\xe3\\x81\\x93\\xe3\\x82\\x8c\\xe3\\x81\\x8c\\xe5\\xbc\\xb7\\xe8\\xa1\\x8c\\xe3\\x81\\x95\\xe3\\x82\\x8c\\xe3\\x82\\x8b\\xe3\\x81\\xaa\\xe3\\x82\\x89\\xe3\\x82\\xa6\\xe3\\x83\\x81\\xe3\\x82\\x82\\xe6\\xa5\\xbd\\xe5\\xa4\\xa9\\xe3\\x81\\x95\\xe3\\x82\\x93\\xe3\\x81\\xa8\\xe3\\x81\\xae\\xe9\\x96\\xa2\\xe4\\xbf\\x82\\xe3\\x82\\x92\\xe8\\xa6\\x8b\\xe7\\x9b\\xb4\\xe3\\x81\\x97\\xe3\\x81\\x99\\xe3\\x81\\xb9\\xe3\\x81\\x8d\\xe6\\x99\\x82\\xe3\\x81\\x8c\\xe6\\x9d\\xa5\\xe3\\x81\\x9f\\xe3\\x81\\xa8\\xe6\\x80\\x9d\\xe3\\x81\\xa3\\xe3\\x81\\xa6\\xe3\\x81\\xbe\\xe3\\x81\\x99\\xe3\\x80\\x82\\xe6\\xa0\\xaa\\xe4\\xb8\\xbb\\xe3\\x81\\xa8\\xe8\\xa8\\x80\\xe3\\x81\\x88\\xe3\\x81\\xa9\\xe3\\x80\\x81\\xe5\\x85\\x88\\xe8\\xbc\\xa9\\xe3\\x81\\xa8\\xe8\\xa8\\x80\\xe3\\x81\\x88\\xe3\\x81\\xa9\\xe2\\x80\\xa6\\\\n\\\\n\\xe7\\x90\\x86\\xe7\\x94\\xb1\\xe2\\x91\\xa0\\xe3\\x81\\xaf\\xe3\\x81\\x93\\xe3\\x82\\x8c\\xe3\\x81\\x8c\\xe5\\xbc\\xb7\\xe8\\xa1\\x8c\\xe3\\x81\\x95\\xe3\\x82\\x8c\\xe3\\x82\\x8b\\xe3\\x81\\xa8\\xe5\\xa3\\xb2\\xe4\\xb8\\x8a\\xe3\\x81\\xaf\\xe5\\xbe\\xae\\xe6\\xb8\\x9b\\xe3\\x80\\x81\\xe3\\x81\\x9d\\xe3\\x81\\x97\\xe3\\x81\\xa6\\xe5\\xae\\xa2\\xe5\\x8d\\x98\\xe4\\xbe\\xa1\\xe3\\x81\\xaf\\xe5\\xa4\\xa7\\xe5\\xb9\\x85\\xe3\\x81\\xab\\xe4\\xb8\\x8b\\xe3\\x81\\x8c\\xe3\\x82\\x8b\\xe3\\x81\\x8b\\xe3\\x82\\x89\\xe3\\x80\\x82\\xe3\\x81\\x93\\xe3\\x82\\x8c\\xe3\\x81\\xaf\\xe6\\x97\\xa2\\xe3\\x81\\xab\\xe3\\x82\\xa6\\xe3\\x83\\x81\\xe3\\x81\\xafAB\\xe3\\x83\\x86\\xe3\\x82\\xb9\\xe3\\x83\\x88\\xe3\\x81\\xa7\\xe5\\xae\\x9f\\xe8\\xa8\\xbc\\xe6\\xb8\\x88\\xe3\\x81\\xa7\\xe3\\x81\\x99\\xe3\\x80\\x82\\\\n\\xe7\\x90\\x86\\xe7\\x94\\xb1\\xe2\\x91\\xa1\\xe3\\x81\\xaf\\xe3\\x83\\xa2\\xe3\\x83\\xbc\\xe3\\x83\\xab in \\xe3\\x83\\xa2\\xe3\\x83\\xbc\\xe3\\x83\\xab\\xe4\\xba\\x8b\\xe6\\xa5\\xad\\xe3\\x81\\xa7\\xe8\\xa8\\x80\\xe3\\x81\\x88\\xe3\\x81\\xb0\\xe3\\x80\\x81\\xe6\\xa5\\xbd\\xe5\\xa4\\xa9\\xe3\\x82\\x88\\xe3\\x82\\x8a\\xe3\\x82\\x82PayPay\\xe3\\x83\\xa2\\xe3\\x83\\xbc\\xe3\\x83\\xab\\xe3\\x81\\x8c\\xe3\\x80\\x81\\xe4\\xbb\\x8a\\xe3\\x81\\xaf\\xe5\\xa3\\xb2\\xe4\\xb8\\x8a\\xe3\\x82\\x92\\xe5\\xa4\\xa7\\xe3\\x81\\x8d\\xe3\\x81\\x8f\\xe4\\xbc\\xb8\\xe3\\x81\\xb0\\xe3\\x81\\x97\\xe3\\x81\\xa6\\xe3\\x81\\x84\\xe3\\x82\\x8b\\xe3\\x81\\x8b\\xe3\\x82\\x89\\xe3\\x80\\x82\\\\n\\\\n\\xe3\\x81\\xa7\\xe3\\x82\\x82\\xe5\\x87\\xba\\xe5\\xba\\x97\\xe8\\x80\\x85\\xe3\\x81\\x8c\\xe3\\x81\\x93\\xe3\\x82\\x93\\xe3\\x81\\xaa\\xe3\\x81\\xab\\xe5\\x8f\\x8d\\xe7\\x99\\xba\\xe3\\x81\\x97\\xe3\\x81\\xa6\\xe3\\x82\\x8b\\xe3\\x81\\xae\\xe3\\x81\\xab\\xe5\\xbc\\xb7\\xe8\\xa1\\x8c\\xe3\\x81\\x99\\xe3\\x82\\x8b\\xe6\\x84\\x8f\\xe5\\x91\\xb3\\xe3\\x81\\xaf\\xe3\\x82\\xb5\\xe3\\x83\\x83\\xe3\\x83\\x91\\xe3\\x83\\xaa\\xe3\\x82\\x8f\\xe3\\x81\\x8b\\xe3\\x82\\x8a\\xe3\\x81\\xbe\\xe3\\x81\\x9b\\xe3\\x82\\x93\\xe3\\x80\\x82\\xe5\\xbc\\xb7\\xe8\\xa1\\x8c\\xe3\\x81\\x97\\xe3\\x81\\xa6\\xe3\\x82\\x82\\xe5\\xa3\\xb2\\xe4\\xb8\\x8a\\xe3\\x81\\x8c\\xe3\\x81\\x82\\xe3\\x81\\x8c\\xe3\\x82\\x8b\\xe4\\xbf\\x9d\\xe8\\xa8\\xbc\\xe3\\x81\\xaf\\xe5\\x85\\xa8\\xe3\\x81\\x8f\\xe7\\x84\\xa1\\xe3\\x81\\x84\\xe3\\x81\\xae\\xe3\\x81\\xab\\xe2\\x80\\xa6\\\\n\\\\n\\xe3\\x81\\x9c\\xe3\\x81\\xb2\\xe4\\xb8\\x89\\xe6\\x9c\\xa8\\xe8\\xb0\\xb7\\xe3\\x81\\x95\\xe3\\x82\\x93\\xe3\\x81\\xab\\xe3\\x81\\xaf\\xe3\\x82\\xb3\\xe3\\x82\\xb3\\xe3\\x81\\xa7\\xe5\\xa4\\xa7\\xe8\\x8b\\xb1\\xe6\\x96\\xad\\xe3\\x80\\x81\\xe3\\x81\\xa4\\xe3\\x81\\xbe\\xe3\\x82\\x8a\\xe6\\x92\\xa4\\xe5\\x9b\\x9e\\xe3\\x82\\x92\\xe3\\x81\\x97\\xe3\\x81\\xa6\\xe9\\xa0\\x82\\xe3\\x81\\x84\\xe3\\x81\\xa6\\xe3\\x80\\x81\\xe3\\x82\\xaa\\xe3\\x83\\x88\\xe3\\x82\\xb3\\xe3\\x82\\x92\\xe9\\xad\\x85\\xe3\\x81\\x9b\\xe3\\x81\\xa6\\xe6\\xac\\xb2\\xe3\\x81\\x97\\xe3\\x81\\x84\\xe3\\x81\\xa8\\xe6\\x80\\x9d\\xe3\\x81\\xa3\\xe3\\x81\\xa6\\xe3\\x81\\xbe\\xe3\\x81\\x99\\xe3\\x80\\x82\\\\n\\\\n\\xe8\\xbf\\xbd\\xe4\\xbc\\xb8:\\\\n\\\\n\\xe3\\x81\\xbe\\xe3\\x80\\x81\\xe3\\x82\\xa6\\xe3\\x83\\x81\\xe3\\x81\\xaf\\xe6\\xa5\\xbd\\xe5\\xa4\\xa9\\xe3\\x81\\x95\\xe3\\x82\\x93\\xe5\\xa3\\xb2\\xe4\\xb8\\x8a\\xe5\\x89\\xb2\\xe5\\x90\\x88\\xe3\\x81\\xaf\\xe4\\xb8\\x80\\xe3\\x80\\x81\\xe4\\xba\\x8c\\xe5\\x89\\xb2\\xe3\\x81\\xa0\\xe3\\x81\\x8b\\xe3\\x82\\x89 (\\xe3\\x83\\xa1\\xe3\\x82\\xa4\\xe3\\x83\\xb3\\xe3\\x81\\xaf\\xe5\\xbd\\x93\\xe7\\x84\\xb6\\xe3\\x80\\x81locondo.jp) \\xe5\\xbd\\xb1\\xe9\\x9f\\xbf\\xe3\\x81\\xaf\\xe8\\xbb\\xbd\\xe5\\xbe\\xae\\xe3\\x81\\xaa\\xe3\\x82\\x93\\xe3\\x81\\xa7\\xe3\\x81\\x99\\xe3\\x81\\x8c\\xe3\\x80\\x81\\xe6\\xa5\\xbd\\xe5\\xa4\\xa9\\xe5\\xa3\\xb2\\xe4\\xb8\\x8a\\xe5\\x89\\xb2\\xe5\\x90\\x88\\xe3\\x81\\x8c\\xe9\\xab\\x98\\xe3\\x81\\x84\\xe3\\x82\\xb7\\xe3\\x83\\xa7\\xe3\\x83\\x83\\xe3\\x83\\x97\\xe3\\x81\\x95\\xe3\\x82\\x93\\xe3\\x81\\xaf\\xe3\\x83\\x9b\\xe3\\x83\\xb3\\xe3\\x83\\x88\\xe5\\xa4\\xa7\\xe5\\xa4\\x89\\xe3\\x81\\xa0\\xe3\\x82\\x8d\\xe3\\x81\\x86\\xe3\\x81\\xaa\\xe3\\x80\\x81\\xe3\\x81\\xa3\\xe3\\x81\\xa8\\xe6\\x80\\x9d\\xe3\\x81\\x84\\xe3\\x81\\xbe\\xe3\\x81\\x99\\xe3\\x80\\x82\\\\n\\\\n\\xe5\\x95\\x86\\xe5\\x93\\x81\\xe4\\xbe\\xa1\\xe6\\xa0\\xbc\\xe3\\x81\\xab\\xe8\\xbb\\xa2\\xe5\\xab\\x81\\xe3\\x81\\x99\\xe3\\x82\\x8a\\xe3\\x82\\x83\\xe8\\x89\\xaf\\xe3\\x81\\x84\\xe3\\x81\\xa3\\xe3\\x81\\xa6\\xe7\\xb0\\xa1\\xe5\\x8d\\x98\\xe3\\x81\\xaa\\xe8\\xa9\\xb1\\xe3\\x81\\x98\\xe3\\x82\\x83\\xe3\\x81\\xaa\\xe3\\x81\\x84\\xe3\\x82\\x93\\xe3\\x81\\xa7\\xe3\\x81\\x99\\xe3\\x82\\x88\\xe3\\x81\\xad\\xe3\\x80\\x81\\xe3\\x81\\x93\\xe3\\x82\\x8c\\xe3\\x80\\x82\",\"version\":2,\"likeCount\":432,\"picker\":{\"user\":315349,\"created\":\"2014-11-08T01:41:44.000Z\",\"userName\":\"yusuke.tanaka.haas\",\"userType\":\"NORMAL\",\"firstName\":\"Yusuke\",\"lastName\":\"Tanaka\",\"firstNameEng\":\"Yusuke\",\"lastNameEng\":\"Tanaka\",\"company\":\"\\xe9\\x9d\\xb4\\xe3\\x82\\x92\\xe8\\xb2\\xb7\\xe3\\x81\\x86\\xe3\\x81\\xaa\\xe3\\x82\\x89\\xe3\\x83\\xad\\xe3\\x82\\xb3\\xe3\\x83\\xb3\\xe3\\x83\\x89\\xe2\\x99\\xa9\",\"title\":\"CEO\",\"displayTitle\":\"\\xe9\\x9d\\xb4\\xe3\\x82\\x92\\xe8\\xb2\\xb7\\xe3\\x81\\x86\\xe3\\x81\\xaa\\xe3\\x82\\x89\\xe3\\x83\\xad\\xe3\\x82\\xb3\\xe3\\x83\\xb3\\xe3\\x83\\x89\\xe2\\x99\\xa9 CEO\",\"subscriptions\":[],\"paid\":false,\"permitted\":true,\"category\":1,\"categories\":[1],\"color\":\"1D2A53\",\"cover\":true,\"socialSignup\":true,\"followings\":38,\"followers\":27356,\"likes\":25295,\"opened\":true,\"displayName\":\"Tanaka Yusuke\",\"temporary\":false,\"updated\":\"2019-12-11T01:36:44.000Z\",\"official\":false,\"badges\":[],\"specialities\":[],\"nameVerified\":true,\"mailAddressConfirmed\":true,\"mailAddressConfirmationSent\":false,\"image\":\"https://contents.newspicks.com/users/315349/cover?updatedAt=20191211013644\",\"featuredCoverImage\":\"https://contents.newspicks.com/users/315349/featured/cover\",\"enterprisePrivilegeEnabled\":false,\"series\":false,\"valid\":true,\"active\":true},\"feedbackEnabled\":false,\"commentPickStats\":{\"pickId\":{\"newsId\":{\"type\":\"com.newspicks.model.news.NewsId\",\"value\":4476286,\"unassigned\":false},\"pickerId\":{\"value\":315349}},\"list\":[{\"reason\":{\"key\":\"empathetic\",\"displayName\":\"\\xe5\\x85\\xb1\\xe6\\x84\\x9f\\xe3\\x81\\xa7\\xe3\\x81\\x8d\\xe3\\x82\\x8b\",\"rank\":10,\"selectable\":true},\"count\":8,\"pickers\":[2240776,138219,278958,224941,2365249]},{\"reason\":{\"key\":\"expert\",\"displayName\":\"\\xe5\\xb0\\x82\\xe9\\x96\\x80\\xe7\\x9a\\x84\\xe3\\x81\\xaa\\xe5\\x86\\x85\\xe5\\xae\\xb9\",\"rank\":30,\"selectable\":true},\"count\":18,\"pickers\":[130662,3501554,110039,1637852,4325527]},{\"reason\":{\"key\":\"easy_to_understand\",\"displayName\":\"\\xe3\\x82\\x8f\\xe3\\x81\\x8b\\xe3\\x82\\x8a\\xe3\\x82\\x84\\xe3\\x81\\x99\\xe3\\x81\\x84\",\"rank\":20,\"selectable\":true},\"count\":3,\"pickers\":[2522189,1281195,797388]}],\"totalCount\":29}},\"topComments\":[{\"user\":315349,\"news\":4476286,\"picked\":\"2019-12-19T17:25:44.407Z\",\"comment\":\"\\xe3\\x82\\xa6\\xe3\\x83\\x81\\xe3\\x82\\x82\\xe3\\x81\\x84\\xe3\\x81\\xa1\\xe3\\x81\\x8a\\xe3\\x82\\xb7\\xe3\\x83\\xa7\\xe3\\x83\\x83\\xe3\\x83\\x97\\xe3\\x82\\xaa\\xe3\\x83\\x96\\xe3\\x82\\xb6\\xe3\\x82\\xa4\\xe3\\x83\\xa4\\xe3\\x83\\xbc\\xe5\\x8f\\x97\\xe8\\xb3\\x9e\\xe6\\xad\\xb4\\xe3\\x81\\xae\\xe5\\x87\\xba\\xe5\\xba\\x97\\xe8\\x80\\x85\\xe3\\x81\\xa7\\xe3\\x81\\x99\\xe3\\x81\\x8c\\xe3\\x80\\x81\\xe3\\x81\\x93\\xe3\\x82\\x8c\\xe3\\x81\\x8c\\xe5\\xbc\\xb7\\xe8\\xa1\\x8c\\xe3\\x81\\x95\\xe3\\x82\\x8c\\xe3\\x82\\x8b\\xe3\\x81\\xaa\\xe3\\x82\\x89\\xe3\\x82\\xa6\\xe3\\x83\\x81\\xe3\\x82\\x82\\xe6\\xa5\\xbd\\xe5\\xa4\\xa9\\xe3\\x81\\x95\\xe3\\x82\\x93\\xe3\\x81\\xa8\\xe3\\x81\\xae\\xe9\\x96\\xa2\\xe4\\xbf\\x82\\xe3\\x82\\x92\\xe8\\xa6\\x8b\\xe7\\x9b\\xb4\\xe3\\x81\\x97\\xe3\\x81\\x99\\xe3\\x81\\xb9\\xe3\\x81\\x8d\\xe6\\x99\\x82\\xe3\\x81\\x8c\\xe6\\x9d\\xa5\\xe3\\x81\\x9f\\xe3\\x81\\xa8\\xe6\\x80\\x9d\\xe3\\x81\\xa3\\xe3\\x81\\xa6\\xe3\\x81\\xbe\\xe3\\x81\\x99\\xe3\\x80\\x82\\xe6\\xa0\\xaa\\xe4\\xb8\\xbb\\xe3\\x81\\xa8\\xe8\\xa8\\x80\\xe3\\x81\\x88\\xe3\\x81\\xa9\\xe3\\x80\\x81\\xe5\\x85\\x88\\xe8\\xbc\\xa9\\xe3\\x81\\xa8\\xe8\\xa8\\x80\\xe3\\x81\\x88\\xe3\\x81\\xa9\\xe2\\x80\\xa6\\\\n\\\\n\\xe7\\x90\\x86\\xe7\\x94\\xb1\\xe2\\x91\\xa0\\xe3\\x81\\xaf\\xe3\\x81\\x93\\xe3\\x82\\x8c\\xe3\\x81\\x8c\\xe5\\xbc\\xb7\\xe8\\xa1\\x8c\\xe3\\x81\\x95\\xe3\\x82\\x8c\\xe3\\x82\\x8b\\xe3\\x81\\xa8\\xe5\\xa3\\xb2\\xe4\\xb8\\x8a\\xe3\\x81\\xaf\\xe5\\xbe\\xae\\xe6\\xb8\\x9b\\xe3\\x80\\x81\\xe3\\x81\\x9d\\xe3\\x81\\x97\\xe3\\x81\\xa6\\xe5\\xae\\xa2\\xe5\\x8d\\x98\\xe4\\xbe\\xa1\\xe3\\x81\\xaf\\xe5\\xa4\\xa7\\xe5\\xb9\\x85\\xe3\\x81\\xab\\xe4\\xb8\\x8b\\xe3\\x81\\x8c\\xe3\\x82\\x8b\\xe3\\x81\\x8b\\xe3\\x82\\x89\\xe3\\x80\\x82\\xe3\\x81\\x93\\xe3\\x82\\x8c\\xe3\\x81\\xaf\\xe6\\x97\\xa2\\xe3\\x81\\xab\\xe3\\x82\\xa6\\xe3\\x83\\x81\\xe3\\x81\\xafAB\\xe3\\x83\\x86\\xe3\\x82\\xb9\\xe3\\x83\\x88\\xe3\\x81\\xa7\\xe5\\xae\\x9f\\xe8\\xa8\\xbc\\xe6\\xb8\\x88\\xe3\\x81\\xa7\\xe3\\x81\\x99\\xe3\\x80\\x82\\\\n\\xe7\\x90\\x86\\xe7\\x94\\xb1\\xe2\\x91\\xa1\\xe3\\x81\\xaf\\xe3\\x83\\xa2\\xe3\\x83\\xbc\\xe3\\x83\\xab in \\xe3\\x83\\xa2\\xe3\\x83\\xbc\\xe3\\x83\\xab\\xe4\\xba\\x8b\\xe6\\xa5\\xad\\xe3\\x81\\xa7\\xe8\\xa8\\x80\\xe3\\x81\\x88\\xe3\\x81\\xb0\\xe3\\x80\\x81\\xe6\\xa5\\xbd\\xe5\\xa4\\xa9\\xe3\\x82\\x88\\xe3\\x82\\x8a\\xe3\\x82\\x82PayPay\\xe3\\x83\\xa2\\xe3\\x83\\xbc\\xe3\\x83\\xab\\xe3\\x81\\x8c\\xe3\\x80\\x81\\xe4\\xbb\\x8a\\xe3\\x81\\xaf\\xe5\\xa3\\xb2\\xe4\\xb8\\x8a\\xe3\\x82\\x92\\xe5\\xa4\\xa7\\xe3\\x81\\x8d\\xe3\\x81\\x8f\\xe4\\xbc\\xb8\\xe3\\x81\\xb0\\xe3\\x81\\x97\\xe3\\x81\\xa6\\xe3\\x81\\x84\\xe3\\x82\\x8b\\xe3\\x81\\x8b\\xe3\\x82\\x89\\xe3\\x80\\x82\\\\n\\\\n\\xe3\\x81\\xa7\\xe3\\x82\\x82\\xe5\\x87\\xba\\xe5\\xba\\x97\\xe8\\x80\\x85\\xe3\\x81\\x8c\\xe3\\x81\\x93\\xe3\\x82\\x93\\xe3\\x81\\xaa\\xe3\\x81\\xab\\xe5\\x8f\\x8d\\xe7\\x99\\xba\\xe3\\x81\\x97\\xe3\\x81\\xa6\\xe3\\x82\\x8b\\xe3\\x81\\xae\\xe3\\x81\\xab\\xe5\\xbc\\xb7\\xe8\\xa1\\x8c\\xe3\\x81\\x99\\xe3\\x82\\x8b\\xe6\\x84\\x8f\\xe5\\x91\\xb3\\xe3\\x81\\xaf\\xe3\\x82\\xb5\\xe3\\x83\\x83\\xe3\\x83\\x91\\xe3\\x83\\xaa\\xe3\\x82\\x8f\\xe3\\x81\\x8b\\xe3\\x82\\x8a\\xe3\\x81\\xbe\\xe3\\x81\\x9b\\xe3\\x82\\x93\\xe3\\x80\\x82\\xe5\\xbc\\xb7\\xe8\\xa1\\x8c\\xe3\\x81\\x97\\xe3\\x81\\xa6\\xe3\\x82\\x82\\xe5\\xa3\\xb2\\xe4\\xb8\\x8a\\xe3\\x81\\x8c\\xe3\\x81\\x82\\xe3\\x81\\x8c\\xe3\\x82\\x8b\\xe4\\xbf\\x9d\\xe8\\xa8\\xbc\\xe3\\x81\\xaf\\xe5\\x85\\xa8\\xe3\\x81\\x8f\\xe7\\x84\\xa1\\xe3\\x81\\x84\\xe3\\x81\\xae\\xe3\\x81\\xab\\xe2\\x80\\xa6\\\\n\\\\n\\xe3\\x81\\x9c\\xe3\\x81\\xb2\\xe4\\xb8\\x89\\xe6\\x9c\\xa8\\xe8\\xb0\\xb7\\xe3\\x81\\x95\\xe3\\x82\\x93\\xe3\\x81\\xab\\xe3\\x81\\xaf\\xe3\\x82\\xb3\\xe3\\x82\\xb3\\xe3\\x81\\xa7\\xe5\\xa4\\xa7\\xe8\\x8b\\xb1\\xe6\\x96\\xad\\xe3\\x80\\x81\\xe3\\x81\\xa4\\xe3\\x81\\xbe\\xe3\\x82\\x8a\\xe6\\x92\\xa4\\xe5\\x9b\\x9e\\xe3\\x82\\x92\\xe3\\x81\\x97\\xe3\\x81\\xa6\\xe9\\xa0\\x82\\xe3\\x81\\x84\\xe3\\x81\\xa6\\xe3\\x80\\x81\\xe3\\x82\\xaa\\xe3\\x83\\x88\\xe3\\x82\\xb3\\xe3\\x82\\x92\\xe9\\xad\\x85\\xe3\\x81\\x9b\\xe3\\x81\\xa6\\xe6\\xac\\xb2\\xe3\\x81\\x97\\xe3\\x81\\x84\\xe3\\x81\\xa8\\xe6\\x80\\x9d\\xe3\\x81\\xa3\\xe3\\x81\\xa6\\xe3\\x81\\xbe\\xe3\\x81\\x99\\xe3\\x80\\x82\\\\n\\\\n\\xe8\\xbf\\xbd\\xe4\\xbc\\xb8:\\\\n\\\\n\\xe3\\x81\\xbe\\xe3\\x80\\x81\\xe3\\x82\\xa6\\xe3\\x83\\x81\\xe3\\x81\\xaf\\xe6\\xa5\\xbd\\xe5\\xa4\\xa9\\xe3\\x81\\x95\\xe3\\x82\\x93\\xe5\\xa3\\xb2\\xe4\\xb8\\x8a\\xe5\\x89\\xb2\\xe5\\x90\\x88\\xe3\\x81\\xaf\\xe4\\xb8\\x80\\xe3\\x80\\x81\\xe4\\xba\\x8c\\xe5\\x89\\xb2\\xe3\\x81\\xa0\\xe3\\x81\\x8b\\xe3\\x82\\x89 (\\xe3\\x83\\xa1\\xe3\\x82\\xa4\\xe3\\x83\\xb3\\xe3\\x81\\xaf\\xe5\\xbd\\x93\\xe7\\x84\\xb6\\xe3\\x80\\x81locondo.jp) \\xe5\\xbd\\xb1\\xe9\\x9f\\xbf\\xe3\\x81\\xaf\\xe8\\xbb\\xbd\\xe5\\xbe\\xae\\xe3\\x81\\xaa\\xe3\\x82\\x93\\xe3\\x81\\xa7\\xe3\\x81\\x99\\xe3\\x81\\x8c\\xe3\\x80\\x81\\xe6\\xa5\\xbd\\xe5\\xa4\\xa9\\xe5\\xa3\\xb2\\xe4\\xb8\\x8a\\xe5\\x89\\xb2\\xe5\\x90\\x88\\xe3\\x81\\x8c\\xe9\\xab\\x98\\xe3\\x81\\x84\\xe3\\x82\\xb7\\xe3\\x83\\xa7\\xe3\\x83\\x83\\xe3\\x83\\x97\\xe3\\x81\\x95\\xe3\\x82\\x93\\xe3\\x81\\xaf\\xe3\\x83\\x9b\\xe3\\x83\\xb3\\xe3\\x83\\x88\\xe5\\xa4\\xa7\\xe5\\xa4\\x89\\xe3\\x81\\xa0\\xe3\\x82\\x8d\\xe3\\x81\\x86\\xe3\\x81\\xaa\\xe3\\x80\\x81\\xe3\\x81\\xa3\\xe3\\x81\\xa8\\xe6\\x80\\x9d\\xe3\\x81\\x84\\xe3\\x81\\xbe\\xe3\\x81\\x99\\xe3\\x80\\x82\\\\n\\\\n\\xe5\\x95\\x86\\xe5\\x93\\x81\\xe4\\xbe\\xa1\\xe6\\xa0\\xbc\\xe3\\x81\\xab\\xe8\\xbb\\xa2\\xe5\\xab\\x81\\xe3\\x81\\x99\\xe3\\x82\\x8a\\xe3\\x82\\x83\\xe8\\x89\\xaf\\xe3\\x81\\x84\\xe3\\x81\\xa3\\xe3\\x81\\xa6\\xe7\\xb0\\xa1\\xe5\\x8d\\x98\\xe3\\x81\\xaa\\xe8\\xa9\\xb1\\xe3\\x81\\x98\\xe3\\x82\\x83\\xe3\\x81\\xaa\\xe3\\x81\\x84\\xe3\\x82\\x93\\xe3\\x81\\xa7\\xe3\\x81\\x99\\xe3\\x82\\x88\\xe3\\x81\\xad\\xe3\\x80\\x81\\xe3\\x81\\x93\\xe3\\x82\\x8c\\xe3\\x80\\x82\",\"version\":2,\"likeCount\":432,\"picker\":{\"user\":315349,\"created\":\"2014-11-08T01:41:44.000Z\",\"userName\":\"yusuke.tanaka.haas\",\"userType\":\"NORMAL\",\"firstName\":\"Yusuke\",\"lastName\":\"Tanaka\",\"firstNameEng\":\"Yusuke\",\"lastNameEng\":\"Tanaka\",\"company\":\"\\xe9\\x9d\\xb4\\xe3\\x82\\x92\\xe8\\xb2\\xb7\\xe3\\x81\\x86\\xe3\\x81\\xaa\\xe3\\x82\\x89\\xe3\\x83\\xad\\xe3\\x82\\xb3\\xe3\\x83\\xb3\\xe3\\x83\\x89\\xe2\\x99\\xa9\",\"title\":\"CEO\",\"displayTitle\":\"\\xe9\\x9d\\xb4\\xe3\\x82\\x92\\xe8\\xb2\\xb7\\xe3\\x81\\x86\\xe3\\x81\\xaa\\xe3\\x82\\x89\\xe3\\x83\\xad\\xe3\\x82\\xb3\\xe3\\x83\\xb3\\xe3\\x83\\x89\\xe2\\x99\\xa9 CEO\",\"subscriptions\":[],\"paid\":false,\"permitted\":true,\"category\":1,\"categories\":[1],\"color\":\"1D2A53\",\"cover\":true,\"socialSignup\":true,\"followings\":38,\"followers\":27356,\"likes\":25295,\"opened\":true,\"displayName\":\"Tanaka Yusuke\",\"temporary\":false,\"updated\":\"2019-12-11T01:36:44.000Z\",\"official\":false,\"badges\":[],\"specialities\":[],\"nameVerified\":true,\"mailAddressConfirmed\":true,\"mailAddressConfirmationSent\":false,\"image\":\"https://contents.newspicks.com/users/315349/cover?updatedAt=20191211013644\",\"featuredCoverImage\":\"https://contents.newspicks.com/users/315349/featured/cover\",\"enterprisePrivilegeEnabled\":false,\"series\":false,\"valid\":true,\"active\":true},\"feedbackEnabled\":false,\"commentPickStats\":{\"pickId\":{\"newsId\":{\"type\":\"com.newspicks.model.news.NewsId\",\"value\":4476286,\"unassigned\":false},\"pickerId\":{\"value\":315349}},\"list\":[{\"reason\":{\"key\":\"empathetic\",\"displayName\":\"\\xe5\\x85\\xb1\\xe6\\x84\\x9f\\xe3\\x81\\xa7\\xe3\\x81\\x8d\\xe3\\x82\\x8b\",\"rank\":10,\"selectable\":true},\"count\":8,\"pickers\":[2240776,138219,278958,224941,2365249]},{\"reason\":{\"key\":\"expert\",\"displayName\":\"\\xe5\\xb0\\x82\\xe9\\x96\\x80\\xe7\\x9a\\x84\\xe3\\x81\\xaa\\xe5\\x86\\x85\\xe5\\xae\\xb9\",\"rank\":30,\"selectable\":true},\"count\":18,\"pickers\":[130662,3501554,110039,1637852,4325527]},{\"reason\":{\"key\":\"easy_to_understand\",\"displayName\":\"\\xe3\\x82\\x8f\\xe3\\x81\\x8b\\xe3\\x82\\x8a\\xe3\\x82\\x84\\xe3\\x81\\x99\\xe3\\x81\\x84\",\"rank\":20,\"selectable\":true},\"count\":3,\"pickers\":[2522189,1281195,797388]}],\"totalCount\":29}}],\"pickers\":[204801,1439251,177673,4857925,149011,502294,139798,1796622,152596,3804716,1436173,4505693,3106356,2517048,1213453,405031,2063422,3393041,207397,141349,305198,4360816,1652781,784957,1857578,4729470,113725,1279535,352824,135228,739912,4777991,4670998,496213,362070,4732956,106583,3138168,3816045,2067012,129631,2989644,4672549,1636987,3286618,4160599,165484,117360,2740824,259700,923790,601224,4083903,287367,2726061,1001098,2120871,987271,610432,422540,469133,1062555,2278569,276117,130194,147605,145051,2495672,141987,2139270,357039,199336,2841223,3684501,4138130,202925,224941,1360570,1461944,527032,3750538,4161160,1753763,159929,1803424,4029057,264377,903856,4432001,1342679,2709228,140490,623808,218319,3137763,167122,1559750,3560167,1082050,107221,151259,232153,2184955,1607875,180959,4691098,102623,3271889,1328373,687855,2404559,121069,305896,2459349,1164000,2888926,119026,143601,1837281,447737,127745,119040,254720,4841804,2283818,3239201,394516,159509,220440,4263261,404761,300325,3969309,403759,3885332,4732775,151859,546105,1991983,104249,1068842,121658,352057,149308,611639,103751,4154745,975174,155467,3012967,823616,3898231,4184434,2391403,334161,1334605,1215304,264543,1947968,1889660,775017,100706,1608061,3372374,348003,3797329,415599,2096502,370031,517480,148851,893820,1023354,598385,671600,2798506,4443587,383369,553860,105873,2863034,3562926,123290,488359,547752,1425332,264610,3614096,349101,667040,4269550,126901,2153364,2699677,152501,1369518,3385742,3889663,224709,3280373,152009,788930,315349,4791704,883672,135124,1077703,1913290,2763762,1380302,3882457,871918,206823,138219,1098233,664544,144876,844258,579070,1513440,1715693,3808194,2591707],\"commentCount\":223,\"themes\":[3],\"relatedUsers\":[],\"authors\":[],\"infeedAd\":false,\"articleAd\":false,\"userCallbackUrls\":[],\"conversion\":false,\"prefetchEnabled\":false,\"userName\":\"\\xe5\\x85\\xb1\\xe5\\x90\\x8c\\xe9\\x80\\x9a\\xe4\\xbf\\xa1\",\"pickCount\":577,\"companyIds\":[\"SPD0VK13MNICJXAC\"],\"summaryImageEnabled\":true,\"communityDiscussions\":[],\"viewerCount\":0,\"allowedOperations\":[],\"commentPermission\":\"DENY\",\"allowings\":[],\"original\":false,\"movieContents\":false,\"new\":false}'\n"
     ],
     "output_type": "stream"
    }
   ],
   "source": [
    "import json\n",
    "import requests\n",
    "\n",
    "\n",
    "url = 'https://contents.newspicks.com/news/4476286/?ref=index'\n",
    "data = urllib.request.urlopen(url).read()\n",
    "print(data)\n",
    "\n",
    "# urllib.request よりもrequests を使おうとのこと"
   ],
   "metadata": {
    "collapsed": false,
    "pycharm": {
     "name": "#%%\n",
     "is_executing": false
    }
   }
  }
 ],
 "metadata": {
  "kernelspec": {
   "display_name": "Python 3",
   "language": "python",
   "name": "python3"
  },
  "language_info": {
   "codemirror_mode": {
    "name": "ipython",
    "version": 2
   },
   "file_extension": ".py",
   "mimetype": "text/x-python",
   "name": "python",
   "nbconvert_exporter": "python",
   "pygments_lexer": "ipython2",
   "version": "2.7.6"
  },
  "pycharm": {
   "stem_cell": {
    "cell_type": "raw",
    "source": [
     "\n"
    ],
    "metadata": {
     "collapsed": false
    }
   }
  }
 },
 "nbformat": 4,
 "nbformat_minor": 0
}