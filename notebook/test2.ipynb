{
 "cells": [
  {
   "cell_type": "code",
   "execution_count": 6,
   "metadata": {
    "collapsed": true,
    "pycharm": {
     "is_executing": false
    }
   },
   "outputs": [],
   "source": [
    "import numpy as np\n",
    "import scipy as sp\n",
    "import matplotlib as mpl\n",
    "import matplotlib.cm as cm\n",
    "import matplotlib.pyplot as plt\n",
    "import pandas as pd\n",
    "import time\n",
    "pd.set_option('display.width', 500)\n",
    "pd.set_option('display.max_columns', 100)\n",
    "pd.set_option('display.notebook_repr_html', True)\n",
    "import seaborn as sns\n",
    "sns.set_style(\"whitegrid\")\n",
    "sns.set_context(\"poster\")"
   ]
  },
  {
   "cell_type": "code",
   "execution_count": 1,
   "outputs": [],
   "source": [
    "ourschema=\"\"\"\n",
    "DROP TABLE IF EXISTS \"candidates\";\n",
    "DROP TABLE IF EXISTS \"contributors\";\n",
    "CREATE TABLE \"candidates\" (\n",
    "    \"id\" INTEGER PRIMARY KEY  NOT NULL ,\n",
    "    \"first_name\" VARCHAR,\n",
    "    \"last_name\" VARCHAR,\n",
    "    \"middle_name\" VARCHAR,\n",
    "    \"party\" VARCHAR NOT NULL\n",
    ");\n",
    "CREATE TABLE \"contributors\" (\n",
    "    \"id\" INTEGER PRIMARY KEY  AUTOINCREMENT  NOT NULL,\n",
    "    \"last_name\" VARCHAR,\n",
    "    \"first_name\" VARCHAR,\n",
    "    \"middle_name\" VARCHAR,\n",
    "    \"street_1\" VARCHAR,\n",
    "    \"street_2\" VARCHAR,\n",
    "    \"city\" VARCHAR,\n",
    "    \"state\" VARCHAR,\n",
    "    \"zip\" VARCHAR,\n",
    "    \"amount\" INTEGER,\n",
    "    \"date\" DATETIME,\n",
    "    \"candidate_id\" INTEGER NOT NULL,\n",
    "    FOREIGN KEY(candidate_id) REFERENCES candidates(id)\n",
    ");\n",
    "\"\"\"\n"
   ],
   "metadata": {
    "collapsed": false,
    "pycharm": {
     "name": "#%%\n",
     "is_executing": false
    }
   }
  },
  {
   "cell_type": "code",
   "execution_count": 2,
   "outputs": [],
   "source": [
    "from sqlite3 import dbapi2 as sq3\n",
    "import os\n",
    "PATHSTART=\".\"\n",
    "def get_db(dbfile):\n",
    "    sqlite_db = sq3.connect(os.path.join(PATHSTART, dbfile))\n",
    "    return sqlite_db\n"
   ],
   "metadata": {
    "collapsed": false,
    "pycharm": {
     "name": "#%%\n",
     "is_executing": false
    }
   }
  },
  {
   "cell_type": "code",
   "execution_count": 3,
   "outputs": [],
   "source": [
    "def init_db(dbfile, schema):\n",
    "    \"\"\"Creates the database tables.\"\"\"\n",
    "    db = get_db(dbfile)\n",
    "    db.cursor().executescript(schema)\n",
    "    db.commit()\n",
    "    return db\n"
   ],
   "metadata": {
    "collapsed": false,
    "pycharm": {
     "name": "#%%\n",
     "is_executing": false
    }
   }
  },
  {
   "cell_type": "code",
   "execution_count": 12,
   "outputs": [],
   "source": [
    "dfcand=pd.read_csv(\"./candidates.txt\", sep='|')\n",
    "#dfcand\n"
   ],
   "metadata": {
    "collapsed": false,
    "pycharm": {
     "name": "#%%\n",
     "is_executing": false
    }
   }
  },
  {
   "cell_type": "code",
   "execution_count": 13,
   "outputs": [
    {
     "data": {
      "text/plain": "    first_name  last_name middle_name party\n0       Joseph      Biden         NaN     D\n1       Samuel  Brownback         NaN     R\n2      Hillary    Clinton          R.     D\n3  Christopher       Dodd          J.     D\n4         John    Edwards         NaN     D",
      "text/html": "<div>\n<style scoped>\n    .dataframe tbody tr th:only-of-type {\n        vertical-align: middle;\n    }\n\n    .dataframe tbody tr th {\n        vertical-align: top;\n    }\n\n    .dataframe thead th {\n        text-align: right;\n    }\n</style>\n<table border=\"1\" class=\"dataframe\">\n  <thead>\n    <tr style=\"text-align: right;\">\n      <th></th>\n      <th>first_name</th>\n      <th>last_name</th>\n      <th>middle_name</th>\n      <th>party</th>\n    </tr>\n  </thead>\n  <tbody>\n    <tr>\n      <th>0</th>\n      <td>Joseph</td>\n      <td>Biden</td>\n      <td>NaN</td>\n      <td>D</td>\n    </tr>\n    <tr>\n      <th>1</th>\n      <td>Samuel</td>\n      <td>Brownback</td>\n      <td>NaN</td>\n      <td>R</td>\n    </tr>\n    <tr>\n      <th>2</th>\n      <td>Hillary</td>\n      <td>Clinton</td>\n      <td>R.</td>\n      <td>D</td>\n    </tr>\n    <tr>\n      <th>3</th>\n      <td>Christopher</td>\n      <td>Dodd</td>\n      <td>J.</td>\n      <td>D</td>\n    </tr>\n    <tr>\n      <th>4</th>\n      <td>John</td>\n      <td>Edwards</td>\n      <td>NaN</td>\n      <td>D</td>\n    </tr>\n  </tbody>\n</table>\n</div>"
     },
     "metadata": {},
     "output_type": "execute_result",
     "execution_count": 13
    }
   ],
   "source": [
    "del dfcand['id']\n",
    "dfcand.head()"
   ],
   "metadata": {
    "collapsed": false,
    "pycharm": {
     "name": "#%%\n",
     "is_executing": false
    }
   }
  },
  {
   "cell_type": "code",
   "execution_count": 14,
   "outputs": [],
   "source": [
    "db=init_db(\"cancont.db\", ourschema)\n"
   ],
   "metadata": {
    "collapsed": false,
    "pycharm": {
     "name": "#%%\n",
     "is_executing": false
    }
   }
  },
  {
   "cell_type": "code",
   "execution_count": 15,
   "outputs": [],
   "source": [
    "dfcand.to_sql(\"candidates\", db, if_exists=\"append\", index=False)\n"
   ],
   "metadata": {
    "collapsed": false,
    "pycharm": {
     "name": "#%%\n",
     "is_executing": false
    }
   }
  },
  {
   "cell_type": "code",
   "execution_count": 16,
   "outputs": [],
   "source": [
    "sel=\"\"\"\n",
    "SELECT * FROM candidates;\n",
    "\"\"\"\n",
    "c=db.cursor().execute(sel)\n"
   ],
   "metadata": {
    "collapsed": false,
    "pycharm": {
     "name": "#%%\n",
     "is_executing": false
    }
   }
  },
  {
   "cell_type": "code",
   "execution_count": 17,
   "outputs": [
    {
     "data": {
      "text/plain": "[(1, 'Joseph', 'Biden', None, 'D'),\n (2, 'Samuel', 'Brownback', None, 'R'),\n (3, 'Hillary', 'Clinton', 'R.', 'D'),\n (4, 'Christopher', 'Dodd', 'J.', 'D'),\n (5, 'John', 'Edwards', None, 'D'),\n (6, 'Rudolph', 'Giuliani', None, 'R'),\n (7, 'Mike', 'Gravel', None, 'D'),\n (8, 'Mike', 'Huckabee', None, 'R'),\n (9, 'Duncan', 'Hunter', None, 'R'),\n (10, 'Dennis', 'Kucinich', None, 'D'),\n (11, 'John', 'McCain', None, 'R'),\n (12, 'Barack', 'Obama', None, 'D'),\n (13, 'Ron', 'Paul', None, 'R'),\n (14, 'Bill', 'Richardson', None, 'D'),\n (15, 'Mitt', 'Romney', None, 'R'),\n (16, 'Tom', 'Tancredo', None, 'R'),\n (17, 'Fred', 'Thompson', 'D.', 'R')]"
     },
     "metadata": {},
     "output_type": "execute_result",
     "execution_count": 17
    }
   ],
   "source": [
    "\n",
    "c.fetchall()"
   ],
   "metadata": {
    "collapsed": false,
    "pycharm": {
     "name": "#%%\n",
     "is_executing": false
    }
   }
  },
  {
   "cell_type": "code",
   "execution_count": 19,
   "outputs": [
    {
     "data": {
      "text/plain": "    first_name  last_name middle_name party\n0       Joseph      Biden         NaN     D\n1       Samuel  Brownback         NaN     R\n2      Hillary    Clinton          R.     D\n3  Christopher       Dodd          J.     D\n4         John    Edwards         NaN     D",
      "text/html": "<div>\n<style scoped>\n    .dataframe tbody tr th:only-of-type {\n        vertical-align: middle;\n    }\n\n    .dataframe tbody tr th {\n        vertical-align: top;\n    }\n\n    .dataframe thead th {\n        text-align: right;\n    }\n</style>\n<table border=\"1\" class=\"dataframe\">\n  <thead>\n    <tr style=\"text-align: right;\">\n      <th></th>\n      <th>first_name</th>\n      <th>last_name</th>\n      <th>middle_name</th>\n      <th>party</th>\n    </tr>\n  </thead>\n  <tbody>\n    <tr>\n      <th>0</th>\n      <td>Joseph</td>\n      <td>Biden</td>\n      <td>NaN</td>\n      <td>D</td>\n    </tr>\n    <tr>\n      <th>1</th>\n      <td>Samuel</td>\n      <td>Brownback</td>\n      <td>NaN</td>\n      <td>R</td>\n    </tr>\n    <tr>\n      <th>2</th>\n      <td>Hillary</td>\n      <td>Clinton</td>\n      <td>R.</td>\n      <td>D</td>\n    </tr>\n    <tr>\n      <th>3</th>\n      <td>Christopher</td>\n      <td>Dodd</td>\n      <td>J.</td>\n      <td>D</td>\n    </tr>\n    <tr>\n      <th>4</th>\n      <td>John</td>\n      <td>Edwards</td>\n      <td>NaN</td>\n      <td>D</td>\n    </tr>\n  </tbody>\n</table>\n</div>"
     },
     "metadata": {},
     "output_type": "execute_result",
     "execution_count": 19
    }
   ],
   "source": [
    "dfcand.head()"
   ],
   "metadata": {
    "collapsed": false,
    "pycharm": {
     "name": "#%%\n",
     "is_executing": false
    }
   }
  },
  {
   "cell_type": "code",
   "execution_count": 22,
   "outputs": [
    {
     "data": {
      "text/plain": "  first_name last_name middle_name party\n0     Joseph     Biden         NaN     D",
      "text/html": "<div>\n<style scoped>\n    .dataframe tbody tr th:only-of-type {\n        vertical-align: middle;\n    }\n\n    .dataframe tbody tr th {\n        vertical-align: top;\n    }\n\n    .dataframe thead th {\n        text-align: right;\n    }\n</style>\n<table border=\"1\" class=\"dataframe\">\n  <thead>\n    <tr style=\"text-align: right;\">\n      <th></th>\n      <th>first_name</th>\n      <th>last_name</th>\n      <th>middle_name</th>\n      <th>party</th>\n    </tr>\n  </thead>\n  <tbody>\n    <tr>\n      <th>0</th>\n      <td>Joseph</td>\n      <td>Biden</td>\n      <td>NaN</td>\n      <td>D</td>\n    </tr>\n  </tbody>\n</table>\n</div>"
     },
     "metadata": {},
     "output_type": "execute_result",
     "execution_count": 22
    }
   ],
   "source": [
    "dfcand.query(\"index == 0\")\n"
   ],
   "metadata": {
    "collapsed": false,
    "pycharm": {
     "name": "#%%\n",
     "is_executing": false
    }
   }
  }
 ],
 "metadata": {
  "kernelspec": {
   "display_name": "Python 3",
   "language": "python",
   "name": "python3"
  },
  "language_info": {
   "codemirror_mode": {
    "name": "ipython",
    "version": 2
   },
   "file_extension": ".py",
   "mimetype": "text/x-python",
   "name": "python",
   "nbconvert_exporter": "python",
   "pygments_lexer": "ipython2",
   "version": "2.7.6"
  },
  "pycharm": {
   "stem_cell": {
    "cell_type": "raw",
    "source": [],
    "metadata": {
     "collapsed": false
    }
   }
  }
 },
 "nbformat": 4,
 "nbformat_minor": 0
}